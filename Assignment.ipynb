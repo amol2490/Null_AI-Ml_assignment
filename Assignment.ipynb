{
 "cells": [
  {
   "cell_type": "markdown",
   "id": "1a8bbac0",
   "metadata": {},
   "source": [
    "# process of data cleaning"
   ]
  },
  {
   "cell_type": "raw",
   "id": "fbe87045",
   "metadata": {},
   "source": [
    "--> we checked for missing value and dropped missing value rows\n",
    "-->dropped duplicates\n",
    "-->remove stopwords,special character using regular exporession for\n",
    "    this I used re library\n",
    "-->removed extra symbollike alphanumeric"
   ]
  },
  {
   "cell_type": "markdown",
   "id": "44731f0f",
   "metadata": {},
   "source": [
    "# process of Training"
   ]
  },
  {
   "cell_type": "raw",
   "id": "e4f392dd",
   "metadata": {},
   "source": [
    "-->For splitting training and testing I used skleran library\n",
    "-->used tfidf transformer to convert text into numeric value\n",
    "-->Built two model first ine is lohistic regression and second one is naive bayes \n",
    "-->accuracy of logistic regression is 96.04% and for naive bayes is 86.74%\n",
    "-->Finaly filled missing tweet intent using logistic regression model"
   ]
  },
  {
   "cell_type": "markdown",
   "id": "2c9cc164",
   "metadata": {},
   "source": [
    "# Importing required packages"
   ]
  },
  {
   "cell_type": "code",
   "execution_count": 14,
   "id": "70838dca",
   "metadata": {},
   "outputs": [],
   "source": [
    "from nltk.corpus import stopwords\n",
    "import re\n",
    "import pandas as pd \n",
    "from sklearn.feature_extraction.text import CountVectorizer, TfidfVectorizer\n",
    "from sklearn.metrics import accuracy_score"
   ]
  },
  {
   "cell_type": "code",
   "execution_count": 15,
   "id": "8e6f21bc",
   "metadata": {},
   "outputs": [
    {
     "data": {
      "text/plain": [
       "(127453, 4)"
      ]
     },
     "execution_count": 15,
     "metadata": {},
     "output_type": "execute_result"
    }
   ],
   "source": [
    "df=pd.read_csv('Tweet_NFT.xlsx - Sheet1.csv')\n",
    "df.shape"
   ]
  },
  {
   "cell_type": "code",
   "execution_count": 16,
   "id": "aceedbac",
   "metadata": {},
   "outputs": [
    {
     "data": {
      "text/html": [
       "<div>\n",
       "<style scoped>\n",
       "    .dataframe tbody tr th:only-of-type {\n",
       "        vertical-align: middle;\n",
       "    }\n",
       "\n",
       "    .dataframe tbody tr th {\n",
       "        vertical-align: top;\n",
       "    }\n",
       "\n",
       "    .dataframe thead th {\n",
       "        text-align: right;\n",
       "    }\n",
       "</style>\n",
       "<table border=\"1\" class=\"dataframe\">\n",
       "  <thead>\n",
       "    <tr style=\"text-align: right;\">\n",
       "      <th></th>\n",
       "      <th>id</th>\n",
       "      <th>tweet_text</th>\n",
       "      <th>tweet_created_at</th>\n",
       "      <th>tweet_intent</th>\n",
       "    </tr>\n",
       "  </thead>\n",
       "  <tbody>\n",
       "    <tr>\n",
       "      <th>0</th>\n",
       "      <td>1212762</td>\n",
       "      <td>@crypto_brody @eCoLoGy1990 @MoonrunnersNFT @It...</td>\n",
       "      <td>2022-08-06T16:56:36.000Z</td>\n",
       "      <td>Community</td>\n",
       "    </tr>\n",
       "    <tr>\n",
       "      <th>1</th>\n",
       "      <td>1212763</td>\n",
       "      <td>Need Sick Character artâ“#art #artist #Artist...</td>\n",
       "      <td>2022-08-06T16:56:36.000Z</td>\n",
       "      <td>Giveaway</td>\n",
       "    </tr>\n",
       "    <tr>\n",
       "      <th>2</th>\n",
       "      <td>1212765</td>\n",
       "      <td>@The_Hulk_NFT @INagotchiNFT @Tesla @killabears...</td>\n",
       "      <td>2022-08-06T16:56:35.000Z</td>\n",
       "      <td>Appreciation</td>\n",
       "    </tr>\n",
       "    <tr>\n",
       "      <th>3</th>\n",
       "      <td>1212766</td>\n",
       "      <td>@CryptoBatzNFT @DarekBTW The first project in ...</td>\n",
       "      <td>2022-08-06T16:56:35.000Z</td>\n",
       "      <td>Community</td>\n",
       "    </tr>\n",
       "    <tr>\n",
       "      <th>4</th>\n",
       "      <td>1212767</td>\n",
       "      <td>@sashadysonn The first project in crypto with ...</td>\n",
       "      <td>2022-08-06T16:56:34.000Z</td>\n",
       "      <td>Community</td>\n",
       "    </tr>\n",
       "    <tr>\n",
       "      <th>5</th>\n",
       "      <td>1212768</td>\n",
       "      <td>ðŸŽ‰ Just registered for the saphire on @PREMI...</td>\n",
       "      <td>2022-08-06T16:56:34.000Z</td>\n",
       "      <td>Presale</td>\n",
       "    </tr>\n",
       "    <tr>\n",
       "      <th>6</th>\n",
       "      <td>1212769</td>\n",
       "      <td>ðŸš¨ THE BRIDGED #4660/9999 SOLD!!! =&amp;gt; PRIC...</td>\n",
       "      <td>2022-08-06T16:56:33.000Z</td>\n",
       "      <td>Giveaway</td>\n",
       "    </tr>\n",
       "    <tr>\n",
       "      <th>7</th>\n",
       "      <td>1212771</td>\n",
       "      <td>@mtnDAO PROJECT 21 - THE BEST GAMEFI PROJECT O...</td>\n",
       "      <td>2022-08-06T16:56:33.000Z</td>\n",
       "      <td>Whitelist</td>\n",
       "    </tr>\n",
       "    <tr>\n",
       "      <th>8</th>\n",
       "      <td>1212772</td>\n",
       "      <td>@Ra8bitsNFT Feature it on @Globalnft07\\nWe hav...</td>\n",
       "      <td>2022-08-06T16:56:33.000Z</td>\n",
       "      <td>Community</td>\n",
       "    </tr>\n",
       "    <tr>\n",
       "      <th>9</th>\n",
       "      <td>1212774</td>\n",
       "      <td>@SpaceBrosBSC PROJECT 21 - THE BEST GAMEFI PRO...</td>\n",
       "      <td>2022-08-06T16:56:32.000Z</td>\n",
       "      <td>Whitelist</td>\n",
       "    </tr>\n",
       "  </tbody>\n",
       "</table>\n",
       "</div>"
      ],
      "text/plain": [
       "        id                                         tweet_text  \\\n",
       "0  1212762  @crypto_brody @eCoLoGy1990 @MoonrunnersNFT @It...   \n",
       "1  1212763  Need Sick Character artâ“#art #artist #Artist...   \n",
       "2  1212765  @The_Hulk_NFT @INagotchiNFT @Tesla @killabears...   \n",
       "3  1212766  @CryptoBatzNFT @DarekBTW The first project in ...   \n",
       "4  1212767  @sashadysonn The first project in crypto with ...   \n",
       "5  1212768  ðŸŽ‰ Just registered for the saphire on @PREMI...   \n",
       "6  1212769  ðŸš¨ THE BRIDGED #4660/9999 SOLD!!! =&gt; PRIC...   \n",
       "7  1212771  @mtnDAO PROJECT 21 - THE BEST GAMEFI PROJECT O...   \n",
       "8  1212772  @Ra8bitsNFT Feature it on @Globalnft07\\nWe hav...   \n",
       "9  1212774  @SpaceBrosBSC PROJECT 21 - THE BEST GAMEFI PRO...   \n",
       "\n",
       "           tweet_created_at  tweet_intent  \n",
       "0  2022-08-06T16:56:36.000Z     Community  \n",
       "1  2022-08-06T16:56:36.000Z      Giveaway  \n",
       "2  2022-08-06T16:56:35.000Z  Appreciation  \n",
       "3  2022-08-06T16:56:35.000Z     Community  \n",
       "4  2022-08-06T16:56:34.000Z     Community  \n",
       "5  2022-08-06T16:56:34.000Z       Presale  \n",
       "6  2022-08-06T16:56:33.000Z      Giveaway  \n",
       "7  2022-08-06T16:56:33.000Z     Whitelist  \n",
       "8  2022-08-06T16:56:33.000Z     Community  \n",
       "9  2022-08-06T16:56:32.000Z     Whitelist  "
      ]
     },
     "execution_count": 16,
     "metadata": {},
     "output_type": "execute_result"
    }
   ],
   "source": [
    "df.head(10)"
   ]
  },
  {
   "cell_type": "code",
   "execution_count": 17,
   "id": "4b52cdd9",
   "metadata": {},
   "outputs": [
    {
     "data": {
      "text/plain": [
       "9"
      ]
     },
     "execution_count": 17,
     "metadata": {},
     "output_type": "execute_result"
    }
   ],
   "source": [
    "len(df.tweet_intent.value_counts())"
   ]
  },
  {
   "cell_type": "code",
   "execution_count": 18,
   "id": "162bb22c",
   "metadata": {},
   "outputs": [
    {
     "data": {
      "text/plain": [
       "array(['Community', 'Giveaway', 'Appreciation', 'Presale', 'Whitelist',\n",
       "       'pinksale', 'Done', 'Interested', 'Launching Soon', nan],\n",
       "      dtype=object)"
      ]
     },
     "execution_count": 18,
     "metadata": {},
     "output_type": "execute_result"
    }
   ],
   "source": [
    "df.tweet_intent.unique()"
   ]
  },
  {
   "cell_type": "markdown",
   "id": "46b34997",
   "metadata": {},
   "source": [
    "# Checking for NULLs"
   ]
  },
  {
   "cell_type": "code",
   "execution_count": 19,
   "id": "6cd1c632",
   "metadata": {},
   "outputs": [
    {
     "data": {
      "text/plain": [
       "id                      0\n",
       "tweet_text              0\n",
       "tweet_created_at        0\n",
       "tweet_intent        31089\n",
       "dtype: int64"
      ]
     },
     "execution_count": 19,
     "metadata": {},
     "output_type": "execute_result"
    }
   ],
   "source": [
    "df.isnull().sum()\n",
    " "
   ]
  },
  {
   "cell_type": "code",
   "execution_count": 26,
   "id": "827ec883",
   "metadata": {},
   "outputs": [
    {
     "data": {
      "text/plain": [
       "(31089, 4)"
      ]
     },
     "execution_count": 26,
     "metadata": {},
     "output_type": "execute_result"
    }
   ],
   "source": [
    "df_missing=df[df['tweet_intent'].isnull()]\n",
    "df_missing.shape"
   ]
  },
  {
   "cell_type": "code",
   "execution_count": 27,
   "id": "2f15a5a7",
   "metadata": {},
   "outputs": [
    {
     "data": {
      "text/html": [
       "<div>\n",
       "<style scoped>\n",
       "    .dataframe tbody tr th:only-of-type {\n",
       "        vertical-align: middle;\n",
       "    }\n",
       "\n",
       "    .dataframe tbody tr th {\n",
       "        vertical-align: top;\n",
       "    }\n",
       "\n",
       "    .dataframe thead th {\n",
       "        text-align: right;\n",
       "    }\n",
       "</style>\n",
       "<table border=\"1\" class=\"dataframe\">\n",
       "  <thead>\n",
       "    <tr style=\"text-align: right;\">\n",
       "      <th></th>\n",
       "      <th>id</th>\n",
       "      <th>tweet_text</th>\n",
       "      <th>tweet_created_at</th>\n",
       "      <th>tweet_intent</th>\n",
       "    </tr>\n",
       "  </thead>\n",
       "  <tbody>\n",
       "    <tr>\n",
       "      <th>96364</th>\n",
       "      <td>1212764</td>\n",
       "      <td>15% off ðŸ§™â€â™‚ï¸ #Wizardia NFTs - it's a ...</td>\n",
       "      <td>2022-08-06T16:56:35.000Z</td>\n",
       "      <td>NaN</td>\n",
       "    </tr>\n",
       "    <tr>\n",
       "      <th>96365</th>\n",
       "      <td>1212770</td>\n",
       "      <td>@asksabir007 @dao_lm Don't miss the chance to ...</td>\n",
       "      <td>2022-08-06T16:56:33.000Z</td>\n",
       "      <td>NaN</td>\n",
       "    </tr>\n",
       "    <tr>\n",
       "      <th>96366</th>\n",
       "      <td>1212773</td>\n",
       "      <td>This zesty faucet from @_bitcoiner is making m...</td>\n",
       "      <td>2022-08-06T16:56:33.000Z</td>\n",
       "      <td>NaN</td>\n",
       "    </tr>\n",
       "    <tr>\n",
       "      <th>96367</th>\n",
       "      <td>1212804</td>\n",
       "      <td>15% off ðŸ§™â€â™‚ï¸ #Wizardia NFTs - it's a ...</td>\n",
       "      <td>2022-08-06T16:56:23.000Z</td>\n",
       "      <td>NaN</td>\n",
       "    </tr>\n",
       "    <tr>\n",
       "      <th>96368</th>\n",
       "      <td>1212776</td>\n",
       "      <td>@Kavaboy_NFT @tanya_4d Message me, letâ€™s tal...</td>\n",
       "      <td>2022-08-06T16:56:32.000Z</td>\n",
       "      <td>NaN</td>\n",
       "    </tr>\n",
       "  </tbody>\n",
       "</table>\n",
       "</div>"
      ],
      "text/plain": [
       "            id                                         tweet_text  \\\n",
       "96364  1212764  15% off ðŸ§™â€â™‚ï¸ #Wizardia NFTs - it's a ...   \n",
       "96365  1212770  @asksabir007 @dao_lm Don't miss the chance to ...   \n",
       "96366  1212773  This zesty faucet from @_bitcoiner is making m...   \n",
       "96367  1212804  15% off ðŸ§™â€â™‚ï¸ #Wizardia NFTs - it's a ...   \n",
       "96368  1212776  @Kavaboy_NFT @tanya_4d Message me, letâ€™s tal...   \n",
       "\n",
       "               tweet_created_at tweet_intent  \n",
       "96364  2022-08-06T16:56:35.000Z          NaN  \n",
       "96365  2022-08-06T16:56:33.000Z          NaN  \n",
       "96366  2022-08-06T16:56:33.000Z          NaN  \n",
       "96367  2022-08-06T16:56:23.000Z          NaN  \n",
       "96368  2022-08-06T16:56:32.000Z          NaN  "
      ]
     },
     "execution_count": 27,
     "metadata": {},
     "output_type": "execute_result"
    }
   ],
   "source": [
    "df_missing.head()"
   ]
  },
  {
   "cell_type": "code",
   "execution_count": 32,
   "id": "10ad8615",
   "metadata": {},
   "outputs": [
    {
     "data": {
      "text/plain": [
       "id                      0\n",
       "tweet_text              0\n",
       "tweet_created_at        0\n",
       "tweet_intent        31089\n",
       "dtype: int64"
      ]
     },
     "execution_count": 32,
     "metadata": {},
     "output_type": "execute_result"
    }
   ],
   "source": [
    "df_missing.isnull().sum()"
   ]
  },
  {
   "cell_type": "code",
   "execution_count": 28,
   "id": "d4f4148d",
   "metadata": {},
   "outputs": [],
   "source": [
    "df1= df.dropna()"
   ]
  },
  {
   "cell_type": "code",
   "execution_count": 29,
   "id": "15938845",
   "metadata": {},
   "outputs": [
    {
     "data": {
      "text/html": [
       "<div>\n",
       "<style scoped>\n",
       "    .dataframe tbody tr th:only-of-type {\n",
       "        vertical-align: middle;\n",
       "    }\n",
       "\n",
       "    .dataframe tbody tr th {\n",
       "        vertical-align: top;\n",
       "    }\n",
       "\n",
       "    .dataframe thead th {\n",
       "        text-align: right;\n",
       "    }\n",
       "</style>\n",
       "<table border=\"1\" class=\"dataframe\">\n",
       "  <thead>\n",
       "    <tr style=\"text-align: right;\">\n",
       "      <th></th>\n",
       "      <th>id</th>\n",
       "      <th>tweet_text</th>\n",
       "      <th>tweet_created_at</th>\n",
       "      <th>tweet_intent</th>\n",
       "    </tr>\n",
       "  </thead>\n",
       "  <tbody>\n",
       "    <tr>\n",
       "      <th>0</th>\n",
       "      <td>1212762</td>\n",
       "      <td>@crypto_brody @eCoLoGy1990 @MoonrunnersNFT @It...</td>\n",
       "      <td>2022-08-06T16:56:36.000Z</td>\n",
       "      <td>Community</td>\n",
       "    </tr>\n",
       "    <tr>\n",
       "      <th>1</th>\n",
       "      <td>1212763</td>\n",
       "      <td>Need Sick Character artâ“#art #artist #Artist...</td>\n",
       "      <td>2022-08-06T16:56:36.000Z</td>\n",
       "      <td>Giveaway</td>\n",
       "    </tr>\n",
       "    <tr>\n",
       "      <th>2</th>\n",
       "      <td>1212765</td>\n",
       "      <td>@The_Hulk_NFT @INagotchiNFT @Tesla @killabears...</td>\n",
       "      <td>2022-08-06T16:56:35.000Z</td>\n",
       "      <td>Appreciation</td>\n",
       "    </tr>\n",
       "    <tr>\n",
       "      <th>3</th>\n",
       "      <td>1212766</td>\n",
       "      <td>@CryptoBatzNFT @DarekBTW The first project in ...</td>\n",
       "      <td>2022-08-06T16:56:35.000Z</td>\n",
       "      <td>Community</td>\n",
       "    </tr>\n",
       "    <tr>\n",
       "      <th>4</th>\n",
       "      <td>1212767</td>\n",
       "      <td>@sashadysonn The first project in crypto with ...</td>\n",
       "      <td>2022-08-06T16:56:34.000Z</td>\n",
       "      <td>Community</td>\n",
       "    </tr>\n",
       "  </tbody>\n",
       "</table>\n",
       "</div>"
      ],
      "text/plain": [
       "        id                                         tweet_text  \\\n",
       "0  1212762  @crypto_brody @eCoLoGy1990 @MoonrunnersNFT @It...   \n",
       "1  1212763  Need Sick Character artâ“#art #artist #Artist...   \n",
       "2  1212765  @The_Hulk_NFT @INagotchiNFT @Tesla @killabears...   \n",
       "3  1212766  @CryptoBatzNFT @DarekBTW The first project in ...   \n",
       "4  1212767  @sashadysonn The first project in crypto with ...   \n",
       "\n",
       "           tweet_created_at  tweet_intent  \n",
       "0  2022-08-06T16:56:36.000Z     Community  \n",
       "1  2022-08-06T16:56:36.000Z      Giveaway  \n",
       "2  2022-08-06T16:56:35.000Z  Appreciation  \n",
       "3  2022-08-06T16:56:35.000Z     Community  \n",
       "4  2022-08-06T16:56:34.000Z     Community  "
      ]
     },
     "execution_count": 29,
     "metadata": {},
     "output_type": "execute_result"
    }
   ],
   "source": [
    "df1.head()"
   ]
  },
  {
   "cell_type": "code",
   "execution_count": 30,
   "id": "0775c1a3",
   "metadata": {},
   "outputs": [
    {
     "data": {
      "text/plain": [
       "(96364, 4)"
      ]
     },
     "execution_count": 30,
     "metadata": {},
     "output_type": "execute_result"
    }
   ],
   "source": [
    "df1.shape"
   ]
  },
  {
   "cell_type": "code",
   "execution_count": 31,
   "id": "42853599",
   "metadata": {},
   "outputs": [
    {
     "data": {
      "text/plain": [
       "id                  0\n",
       "tweet_text          0\n",
       "tweet_created_at    0\n",
       "tweet_intent        0\n",
       "dtype: int64"
      ]
     },
     "execution_count": 31,
     "metadata": {},
     "output_type": "execute_result"
    }
   ],
   "source": [
    "df1.isnull().sum()"
   ]
  },
  {
   "cell_type": "markdown",
   "id": "d2a2eb30",
   "metadata": {},
   "source": [
    "# Dropping duplicates"
   ]
  },
  {
   "cell_type": "code",
   "execution_count": 34,
   "id": "b5ba33df",
   "metadata": {},
   "outputs": [
    {
     "data": {
      "text/plain": [
       "(96364, 4)"
      ]
     },
     "execution_count": 34,
     "metadata": {},
     "output_type": "execute_result"
    }
   ],
   "source": [
    "df1.shape"
   ]
  },
  {
   "cell_type": "code",
   "execution_count": 33,
   "id": "d97e6778",
   "metadata": {},
   "outputs": [
    {
     "name": "stderr",
     "output_type": "stream",
     "text": [
      "/tmp/ipykernel_4047/4156330626.py:1: SettingWithCopyWarning: \n",
      "A value is trying to be set on a copy of a slice from a DataFrame\n",
      "\n",
      "See the caveats in the documentation: https://pandas.pydata.org/pandas-docs/stable/user_guide/indexing.html#returning-a-view-versus-a-copy\n",
      "  df1.drop_duplicates(inplace=True)\n"
     ]
    }
   ],
   "source": [
    "df1.drop_duplicates(inplace=True)"
   ]
  },
  {
   "cell_type": "code",
   "execution_count": 35,
   "id": "89f266e4",
   "metadata": {},
   "outputs": [
    {
     "data": {
      "text/plain": [
       "(96364, 4)"
      ]
     },
     "execution_count": 35,
     "metadata": {},
     "output_type": "execute_result"
    }
   ],
   "source": [
    "df1.shape"
   ]
  },
  {
   "cell_type": "markdown",
   "id": "d243178f",
   "metadata": {},
   "source": [
    "# Preprocessing the text"
   ]
  },
  {
   "cell_type": "code",
   "execution_count": 41,
   "id": "2d19bc58",
   "metadata": {},
   "outputs": [
    {
     "name": "stdout",
     "output_type": "stream",
     "text": [
      "Total number of words: 1640823\n"
     ]
    }
   ],
   "source": [
    "print(\"Total number of words:\",df1['tweet_text'].apply(lambda x: len(x.split(' '))).sum())"
   ]
  },
  {
   "cell_type": "code",
   "execution_count": 37,
   "id": "bffdbd68",
   "metadata": {},
   "outputs": [],
   "source": [
    "special_character_remover = re.compile('[/(){}\\[\\]\\|@,;]')\n",
    "extra_symbol_remover = re.compile('[^0-9a-z #+_]')\n",
    "STOPWORDS = set(stopwords.words('english'))"
   ]
  },
  {
   "cell_type": "code",
   "execution_count": 38,
   "id": "fde2dda8",
   "metadata": {},
   "outputs": [
    {
     "name": "stderr",
     "output_type": "stream",
     "text": [
      "/tmp/ipykernel_4047/2425447337.py:8: SettingWithCopyWarning: \n",
      "A value is trying to be set on a copy of a slice from a DataFrame.\n",
      "Try using .loc[row_indexer,col_indexer] = value instead\n",
      "\n",
      "See the caveats in the documentation: https://pandas.pydata.org/pandas-docs/stable/user_guide/indexing.html#returning-a-view-versus-a-copy\n",
      "  df1['tweet_text'] = df1['tweet_text'].apply(clean_text)\n"
     ]
    }
   ],
   "source": [
    "def clean_text(text):\n",
    "    text = text.lower()\n",
    "    text = special_character_remover.sub(' ', text)\n",
    "    text = extra_symbol_remover.sub('', text)\n",
    "    text = ' '.join(word for word in text.split() if word not in STOPWORDS)\n",
    "    return text\n",
    "    \n",
    "df1['tweet_text'] = df1['tweet_text'].apply(clean_text)"
   ]
  },
  {
   "cell_type": "code",
   "execution_count": 42,
   "id": "fc68b6aa",
   "metadata": {},
   "outputs": [
    {
     "name": "stdout",
     "output_type": "stream",
     "text": [
      "Total number of words: 1640823\n"
     ]
    }
   ],
   "source": [
    "print(\"Total number of words:\",df1['tweet_text'].apply(lambda x: len(x.split(' '))).sum())"
   ]
  },
  {
   "cell_type": "markdown",
   "id": "d5fe270d",
   "metadata": {},
   "source": [
    "# Train Test split"
   ]
  },
  {
   "cell_type": "code",
   "execution_count": 43,
   "id": "f82835a9",
   "metadata": {},
   "outputs": [],
   "source": [
    "from sklearn.model_selection import train_test_split\n",
    "X = df1.tweet_text\n",
    "y = df1.tweet_intent\n",
    "X_train, X_test, y_train, y_test = train_test_split(X, y, test_size=0.3, random_state = 42)"
   ]
  },
  {
   "cell_type": "code",
   "execution_count": 44,
   "id": "c8814445",
   "metadata": {},
   "outputs": [
    {
     "data": {
      "text/plain": [
       "((67454,), (28910,), (67454,), (28910,))"
      ]
     },
     "execution_count": 44,
     "metadata": {},
     "output_type": "execute_result"
    }
   ],
   "source": [
    "X_train.shape,X_test.shape,y_train.shape,y_test.shape"
   ]
  },
  {
   "cell_type": "markdown",
   "id": "ae712e64",
   "metadata": {},
   "source": [
    "# Applying Logistic Regression"
   ]
  },
  {
   "cell_type": "code",
   "execution_count": 45,
   "id": "1c2b71c0",
   "metadata": {},
   "outputs": [
    {
     "name": "stderr",
     "output_type": "stream",
     "text": [
      "/home/amol/.local/lib/python3.8/site-packages/sklearn/linear_model/_logistic.py:444: ConvergenceWarning: lbfgs failed to converge (status=1):\n",
      "STOP: TOTAL NO. of ITERATIONS REACHED LIMIT.\n",
      "\n",
      "Increase the number of iterations (max_iter) or scale the data as shown in:\n",
      "    https://scikit-learn.org/stable/modules/preprocessing.html\n",
      "Please also refer to the documentation for alternative solver options:\n",
      "    https://scikit-learn.org/stable/modules/linear_model.html#logistic-regression\n",
      "  n_iter_i = _check_optimize_result(\n"
     ]
    },
    {
     "name": "stdout",
     "output_type": "stream",
     "text": [
      "Accuracy is : 0.9604289173296437\n"
     ]
    }
   ],
   "source": [
    "from sklearn.linear_model import LogisticRegression\n",
    "from sklearn.pipeline import Pipeline\n",
    "from sklearn.feature_extraction.text import TfidfTransformer\n",
    "\n",
    "lr = Pipeline([('vect', CountVectorizer()),\n",
    "               ('tfidf', TfidfTransformer()),\n",
    "               ('clf', LogisticRegression()),\n",
    "              ])\n",
    "\n",
    "lr.fit(X_train,y_train)\n",
    "y_pred1 = lr.predict(X_test)\n",
    "\n",
    "print(f\"Accuracy is : {accuracy_score(y_pred1,y_test)}\")"
   ]
  },
  {
   "cell_type": "code",
   "execution_count": null,
   "id": "74d0a119",
   "metadata": {},
   "outputs": [],
   "source": [
    " "
   ]
  },
  {
   "cell_type": "code",
   "execution_count": null,
   "id": "1c26541f",
   "metadata": {},
   "outputs": [],
   "source": [
    " "
   ]
  },
  {
   "cell_type": "markdown",
   "id": "8d562ba9",
   "metadata": {},
   "source": [
    "# Applying Naive Bayes Classifier"
   ]
  },
  {
   "cell_type": "code",
   "execution_count": 46,
   "id": "3fb31555",
   "metadata": {},
   "outputs": [
    {
     "name": "stdout",
     "output_type": "stream",
     "text": [
      "accuracy 0.8673469387755102\n"
     ]
    }
   ],
   "source": [
    "from sklearn.naive_bayes import MultinomialNB\n",
    "\n",
    "\n",
    "naivebayes = Pipeline([('vect', CountVectorizer()),\n",
    "               ('tfidf', TfidfTransformer()),\n",
    "               ('clf', MultinomialNB()),\n",
    "              ])\n",
    "naivebayes.fit(X_train, y_train)\n",
    "\n",
    "y_pred = naivebayes.predict(X_test)\n",
    "\n",
    "print(f'accuracy {accuracy_score(y_pred,y_test)}')"
   ]
  },
  {
   "cell_type": "markdown",
   "id": "aae5fd9b",
   "metadata": {},
   "source": [
    " "
   ]
  },
  {
   "cell_type": "markdown",
   "id": "a6d2d3a0",
   "metadata": {},
   "source": [
    "# Filling missing tweet intent"
   ]
  },
  {
   "cell_type": "code",
   "execution_count": 63,
   "id": "106e0b0a",
   "metadata": {},
   "outputs": [
    {
     "data": {
      "text/html": [
       "<div>\n",
       "<style scoped>\n",
       "    .dataframe tbody tr th:only-of-type {\n",
       "        vertical-align: middle;\n",
       "    }\n",
       "\n",
       "    .dataframe tbody tr th {\n",
       "        vertical-align: top;\n",
       "    }\n",
       "\n",
       "    .dataframe thead th {\n",
       "        text-align: right;\n",
       "    }\n",
       "</style>\n",
       "<table border=\"1\" class=\"dataframe\">\n",
       "  <thead>\n",
       "    <tr style=\"text-align: right;\">\n",
       "      <th></th>\n",
       "      <th>id</th>\n",
       "      <th>tweet_text</th>\n",
       "      <th>tweet_created_at</th>\n",
       "      <th>tweet_intent</th>\n",
       "    </tr>\n",
       "  </thead>\n",
       "  <tbody>\n",
       "    <tr>\n",
       "      <th>96364</th>\n",
       "      <td>1212764</td>\n",
       "      <td>15% off ðŸ§™â€â™‚ï¸ #Wizardia NFTs - it's a ...</td>\n",
       "      <td>2022-08-06T16:56:35.000Z</td>\n",
       "      <td>Whitelist</td>\n",
       "    </tr>\n",
       "    <tr>\n",
       "      <th>96365</th>\n",
       "      <td>1212770</td>\n",
       "      <td>@asksabir007 @dao_lm Don't miss the chance to ...</td>\n",
       "      <td>2022-08-06T16:56:33.000Z</td>\n",
       "      <td>Giveaway</td>\n",
       "    </tr>\n",
       "    <tr>\n",
       "      <th>96366</th>\n",
       "      <td>1212773</td>\n",
       "      <td>This zesty faucet from @_bitcoiner is making m...</td>\n",
       "      <td>2022-08-06T16:56:33.000Z</td>\n",
       "      <td>Appreciation</td>\n",
       "    </tr>\n",
       "    <tr>\n",
       "      <th>96367</th>\n",
       "      <td>1212804</td>\n",
       "      <td>15% off ðŸ§™â€â™‚ï¸ #Wizardia NFTs - it's a ...</td>\n",
       "      <td>2022-08-06T16:56:23.000Z</td>\n",
       "      <td>Whitelist</td>\n",
       "    </tr>\n",
       "    <tr>\n",
       "      <th>96368</th>\n",
       "      <td>1212776</td>\n",
       "      <td>@Kavaboy_NFT @tanya_4d Message me, letâ€™s tal...</td>\n",
       "      <td>2022-08-06T16:56:32.000Z</td>\n",
       "      <td>Appreciation</td>\n",
       "    </tr>\n",
       "  </tbody>\n",
       "</table>\n",
       "</div>"
      ],
      "text/plain": [
       "            id                                         tweet_text  \\\n",
       "96364  1212764  15% off ðŸ§™â€â™‚ï¸ #Wizardia NFTs - it's a ...   \n",
       "96365  1212770  @asksabir007 @dao_lm Don't miss the chance to ...   \n",
       "96366  1212773  This zesty faucet from @_bitcoiner is making m...   \n",
       "96367  1212804  15% off ðŸ§™â€â™‚ï¸ #Wizardia NFTs - it's a ...   \n",
       "96368  1212776  @Kavaboy_NFT @tanya_4d Message me, letâ€™s tal...   \n",
       "\n",
       "               tweet_created_at  tweet_intent  \n",
       "96364  2022-08-06T16:56:35.000Z     Whitelist  \n",
       "96365  2022-08-06T16:56:33.000Z      Giveaway  \n",
       "96366  2022-08-06T16:56:33.000Z  Appreciation  \n",
       "96367  2022-08-06T16:56:23.000Z     Whitelist  \n",
       "96368  2022-08-06T16:56:32.000Z  Appreciation  "
      ]
     },
     "execution_count": 63,
     "metadata": {},
     "output_type": "execute_result"
    }
   ],
   "source": [
    "df_missing.head() "
   ]
  },
  {
   "cell_type": "code",
   "execution_count": 68,
   "id": "ed865b6c",
   "metadata": {},
   "outputs": [
    {
     "name": "stderr",
     "output_type": "stream",
     "text": [
      "/tmp/ipykernel_4047/4238066285.py:1: SettingWithCopyWarning: \n",
      "A value is trying to be set on a copy of a slice from a DataFrame.\n",
      "Try using .loc[row_indexer,col_indexer] = value instead\n",
      "\n",
      "See the caveats in the documentation: https://pandas.pydata.org/pandas-docs/stable/user_guide/indexing.html#returning-a-view-versus-a-copy\n",
      "  df_missing['tweet_intent_lr']=lr.predict(df_missing.tweet_text)\n"
     ]
    }
   ],
   "source": [
    "df_missing['tweet_intent_lr']=lr.predict(df_missing.tweet_text) "
   ]
  },
  {
   "cell_type": "code",
   "execution_count": 69,
   "id": "ad0fc68c",
   "metadata": {},
   "outputs": [
    {
     "data": {
      "text/html": [
       "<div>\n",
       "<style scoped>\n",
       "    .dataframe tbody tr th:only-of-type {\n",
       "        vertical-align: middle;\n",
       "    }\n",
       "\n",
       "    .dataframe tbody tr th {\n",
       "        vertical-align: top;\n",
       "    }\n",
       "\n",
       "    .dataframe thead th {\n",
       "        text-align: right;\n",
       "    }\n",
       "</style>\n",
       "<table border=\"1\" class=\"dataframe\">\n",
       "  <thead>\n",
       "    <tr style=\"text-align: right;\">\n",
       "      <th></th>\n",
       "      <th>id</th>\n",
       "      <th>tweet_text</th>\n",
       "      <th>tweet_created_at</th>\n",
       "      <th>tweet_intent</th>\n",
       "      <th>tweet_intent_n</th>\n",
       "      <th>tweet_intent_lr</th>\n",
       "    </tr>\n",
       "  </thead>\n",
       "  <tbody>\n",
       "    <tr>\n",
       "      <th>96364</th>\n",
       "      <td>1212764</td>\n",
       "      <td>15% off ðŸ§™â€â™‚ï¸ #Wizardia NFTs - it's a ...</td>\n",
       "      <td>2022-08-06T16:56:35.000Z</td>\n",
       "      <td>Whitelist</td>\n",
       "      <td>Giveaway</td>\n",
       "      <td>Whitelist</td>\n",
       "    </tr>\n",
       "    <tr>\n",
       "      <th>96365</th>\n",
       "      <td>1212770</td>\n",
       "      <td>@asksabir007 @dao_lm Don't miss the chance to ...</td>\n",
       "      <td>2022-08-06T16:56:33.000Z</td>\n",
       "      <td>Giveaway</td>\n",
       "      <td>Giveaway</td>\n",
       "      <td>Giveaway</td>\n",
       "    </tr>\n",
       "    <tr>\n",
       "      <th>96366</th>\n",
       "      <td>1212773</td>\n",
       "      <td>This zesty faucet from @_bitcoiner is making m...</td>\n",
       "      <td>2022-08-06T16:56:33.000Z</td>\n",
       "      <td>Appreciation</td>\n",
       "      <td>Community</td>\n",
       "      <td>Appreciation</td>\n",
       "    </tr>\n",
       "    <tr>\n",
       "      <th>96367</th>\n",
       "      <td>1212804</td>\n",
       "      <td>15% off ðŸ§™â€â™‚ï¸ #Wizardia NFTs - it's a ...</td>\n",
       "      <td>2022-08-06T16:56:23.000Z</td>\n",
       "      <td>Whitelist</td>\n",
       "      <td>Giveaway</td>\n",
       "      <td>Whitelist</td>\n",
       "    </tr>\n",
       "    <tr>\n",
       "      <th>96368</th>\n",
       "      <td>1212776</td>\n",
       "      <td>@Kavaboy_NFT @tanya_4d Message me, letâ€™s tal...</td>\n",
       "      <td>2022-08-06T16:56:32.000Z</td>\n",
       "      <td>Appreciation</td>\n",
       "      <td>Community</td>\n",
       "      <td>Appreciation</td>\n",
       "    </tr>\n",
       "  </tbody>\n",
       "</table>\n",
       "</div>"
      ],
      "text/plain": [
       "            id                                         tweet_text  \\\n",
       "96364  1212764  15% off ðŸ§™â€â™‚ï¸ #Wizardia NFTs - it's a ...   \n",
       "96365  1212770  @asksabir007 @dao_lm Don't miss the chance to ...   \n",
       "96366  1212773  This zesty faucet from @_bitcoiner is making m...   \n",
       "96367  1212804  15% off ðŸ§™â€â™‚ï¸ #Wizardia NFTs - it's a ...   \n",
       "96368  1212776  @Kavaboy_NFT @tanya_4d Message me, letâ€™s tal...   \n",
       "\n",
       "               tweet_created_at  tweet_intent tweet_intent_n tweet_intent_lr  \n",
       "96364  2022-08-06T16:56:35.000Z     Whitelist       Giveaway       Whitelist  \n",
       "96365  2022-08-06T16:56:33.000Z      Giveaway       Giveaway        Giveaway  \n",
       "96366  2022-08-06T16:56:33.000Z  Appreciation      Community    Appreciation  \n",
       "96367  2022-08-06T16:56:23.000Z     Whitelist       Giveaway       Whitelist  \n",
       "96368  2022-08-06T16:56:32.000Z  Appreciation      Community    Appreciation  "
      ]
     },
     "execution_count": 69,
     "metadata": {},
     "output_type": "execute_result"
    }
   ],
   "source": [
    "df_missing.head()"
   ]
  },
  {
   "cell_type": "markdown",
   "id": "b90c1ce8",
   "metadata": {},
   "source": [
    "# Assigning the intent to tweet which are missing  using train model"
   ]
  },
  {
   "cell_type": "code",
   "execution_count": 106,
   "id": "bdea5c0d",
   "metadata": {},
   "outputs": [
    {
     "data": {
      "text/plain": [
       "id                      0\n",
       "tweet_text              0\n",
       "tweet_created_at        0\n",
       "tweet_intent        31089\n",
       "dtype: int64"
      ]
     },
     "execution_count": 106,
     "metadata": {},
     "output_type": "execute_result"
    }
   ],
   "source": [
    "df.isnull().sum()"
   ]
  },
  {
   "cell_type": "code",
   "execution_count": 136,
   "id": "0bfa93e0",
   "metadata": {},
   "outputs": [],
   "source": [
    "df['tweet_text'] = df['tweet_text'].apply(clean_text)"
   ]
  },
  {
   "cell_type": "code",
   "execution_count": 140,
   "id": "5e5d2b15",
   "metadata": {},
   "outputs": [
    {
     "name": "stderr",
     "output_type": "stream",
     "text": [
      "/tmp/ipykernel_4047/1788551345.py:7: SettingWithCopyWarning: \n",
      "A value is trying to be set on a copy of a slice from a DataFrame\n",
      "\n",
      "See the caveats in the documentation: https://pandas.pydata.org/pandas-docs/stable/user_guide/indexing.html#returning-a-view-versus-a-copy\n",
      "  df['tweet_intent'].iloc[x]=lr.predict(inpt)\n"
     ]
    }
   ],
   "source": [
    "import pandas as pd\n",
    "import numpy as np\n",
    "i=1\n",
    "for x in range(len(df.index)):\n",
    "     if df.iloc[x].isnull().any():\n",
    "        inpt=[df.tweet_text.iloc[x]]\n",
    "        df['tweet_intent'].iloc[x]=lr.predict(inpt)\n",
    "         \n",
    "     \n",
    "        \n",
    "      \n",
    "     "
   ]
  },
  {
   "cell_type": "code",
   "execution_count": 141,
   "id": "ea531262",
   "metadata": {},
   "outputs": [
    {
     "data": {
      "text/plain": [
       "id                  0\n",
       "tweet_text          0\n",
       "tweet_created_at    0\n",
       "tweet_intent        0\n",
       "dtype: int64"
      ]
     },
     "execution_count": 141,
     "metadata": {},
     "output_type": "execute_result"
    }
   ],
   "source": [
    "df.isnull().sum()"
   ]
  },
  {
   "cell_type": "code",
   "execution_count": 142,
   "id": "8f22edbd",
   "metadata": {},
   "outputs": [
    {
     "data": {
      "text/plain": [
       "Community         41510\n",
       "Giveaway          21041\n",
       "Appreciation      16451\n",
       "[Appreciation]    13811\n",
       "[Community]       11139\n",
       "Whitelist          8320\n",
       "Presale            5107\n",
       "[Giveaway]         3390\n",
       "Done               3049\n",
       "[Whitelist]        2704\n",
       "pinksale            477\n",
       "Interested          276\n",
       "Launching Soon      133\n",
       "[Done]               45\n",
       "Name: tweet_intent, dtype: int64"
      ]
     },
     "execution_count": 142,
     "metadata": {},
     "output_type": "execute_result"
    }
   ],
   "source": [
    "df.tweet_intent.value_counts()"
   ]
  },
  {
   "cell_type": "code",
   "execution_count": null,
   "id": "107319b1",
   "metadata": {},
   "outputs": [],
   "source": []
  }
 ],
 "metadata": {
  "kernelspec": {
   "display_name": "Python 3 (ipykernel)",
   "language": "python",
   "name": "python3"
  },
  "language_info": {
   "codemirror_mode": {
    "name": "ipython",
    "version": 3
   },
   "file_extension": ".py",
   "mimetype": "text/x-python",
   "name": "python",
   "nbconvert_exporter": "python",
   "pygments_lexer": "ipython3",
   "version": "3.8.10"
  }
 },
 "nbformat": 4,
 "nbformat_minor": 5
}
